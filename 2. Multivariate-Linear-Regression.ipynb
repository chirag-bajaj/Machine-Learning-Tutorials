{
 "cells": [
  {
   "cell_type": "code",
   "execution_count": 1,
   "metadata": {},
   "outputs": [],
   "source": [
    "import numpy as np\n",
    "from sklearn.preprocessing import StandardScaler\n",
    "from sklearn import datasets"
   ]
  },
  {
   "cell_type": "code",
   "execution_count": 2,
   "metadata": {},
   "outputs": [
    {
     "data": {
      "text/plain": [
       "(400, 13)"
      ]
     },
     "execution_count": 2,
     "metadata": {},
     "output_type": "execute_result"
    }
   ],
   "source": [
    "X,y=datasets.load_boston(return_X_y=True)\n",
    "\n",
    "X_train=X[0:400,:]\n",
    "y_train=y[0:400]\n",
    "\n",
    "X_test=X[400:506,:]\n",
    "y_test=y[400:506]\n",
    "\n",
    "scaler=StandardScaler()\n",
    "scaler.fit(X_train)\n",
    "\n",
    "X_train = scaler.transform(X_train)\n",
    "X_test = scaler.transform(X_test)\n",
    "\n",
    "X_train.shape"
   ]
  },
  {
   "cell_type": "code",
   "execution_count": 3,
   "metadata": {},
   "outputs": [],
   "source": [
    "theta=np.ones([14,1])\n",
    "\n",
    "alpha=0.01\n",
    "\n",
    "dummy=(np.ones([400,1],dtype=int))\n",
    "X_train=np.concatenate((dummy,X_train),axis=1)\n",
    "dummy_test=(np.ones([106,1],dtype=int))\n",
    "X_test=np.concatenate((dummy_test,X_test),axis=1)"
   ]
  },
  {
   "cell_type": "code",
   "execution_count": 4,
   "metadata": {},
   "outputs": [
    {
     "name": "stdout",
     "output_type": "stream",
     "text": [
      "1. Stochastic Gradient Descent\n",
      "2. Batch Gradient Descent\n",
      "3. Mini-Batch Gradient Descent\n",
      "Enter your choice 1\n"
     ]
    }
   ],
   "source": [
    "print(\"1. Stochastic Gradient Descent\")\n",
    "print(\"2. Batch Gradient Descent\")\n",
    "print(\"3. Mini-Batch Gradient Descent\")\n",
    "\n",
    "ch=eval(input(\"Enter your choice \"))"
   ]
  },
  {
   "cell_type": "code",
   "execution_count": 5,
   "metadata": {},
   "outputs": [
    {
     "name": "stdout",
     "output_type": "stream",
     "text": [
      "Enter number of epochs 400\n"
     ]
    }
   ],
   "source": [
    "epochs=eval(input(\"Enter number of epochs \"))"
   ]
  },
  {
   "cell_type": "code",
   "execution_count": 6,
   "metadata": {},
   "outputs": [],
   "source": [
    "temp=np.ndarray([14,1])\n",
    "if ch==1:\n",
    "    for epoch in range(epochs):\n",
    "        for j in range(14):\n",
    "            add=0\n",
    "            for i in range(y_train.shape[0]):\n",
    "                add+=(np.dot(theta.transpose(),X_train[i].reshape([14,1])) - y_train[i])*X_train[i][j]\n",
    "            temp[j] = theta[j] - (alpha/400)*(add)\n",
    "            theta=temp    \n",
    "if ch==2:\n",
    "    for epoch in range(epochs):\n",
    "        for j in range(14):\n",
    "            add=0\n",
    "            for i in range(y_train.shape[0]):\n",
    "                add+=(np.dot(theta.transpose(),X_train[i].reshape([14,1])) - y_train[i])*X_train[i][j]\n",
    "            temp[j] = theta[j] - (alpha/400)*(add)\n",
    "        theta=temp\n",
    "if ch==3:\n",
    "    batch_size=eval(input(\"Enter the batch size \"))\n",
    "    batches=y_train.shape[0]//batch_size\n",
    "    for epoch in range(epochs):\n",
    "        for j in range(14):\n",
    "            add=0\n",
    "            for batch in range(batches):\n",
    "                for i in range(batch*batch_size,batch*batch_size+batch_size):\n",
    "                    add+=(np.dot(theta.transpose(),X_train[i].reshape([14,1])) - y_train[i])*X_train[i][j]\n",
    "                temp[j] = theta[j] - (alpha/batch_size)*(add)\n",
    "                theta=temp    "
   ]
  },
  {
   "cell_type": "code",
   "execution_count": 7,
   "metadata": {},
   "outputs": [],
   "source": [
    "#Mean-Squared-Error loss\n",
    "error=0\n",
    "for i in range(y_test.shape[0]):\n",
    "    error+=np.square(np.dot(theta.transpose(),X_test[i])-y_test[i])\n",
    "mse=error/y_test.shape[0]"
   ]
  },
  {
   "cell_type": "code",
   "execution_count": 8,
   "metadata": {},
   "outputs": [
    {
     "data": {
      "text/plain": [
       "array([26.7216858])"
      ]
     },
     "execution_count": 8,
     "metadata": {},
     "output_type": "execute_result"
    }
   ],
   "source": [
    "mse"
   ]
  }
 ],
 "metadata": {
  "kernelspec": {
   "display_name": "Python 3",
   "language": "python",
   "name": "python3"
  },
  "language_info": {
   "codemirror_mode": {
    "name": "ipython",
    "version": 3
   },
   "file_extension": ".py",
   "mimetype": "text/x-python",
   "name": "python",
   "nbconvert_exporter": "python",
   "pygments_lexer": "ipython3",
   "version": "3.7.6"
  }
 },
 "nbformat": 4,
 "nbformat_minor": 4
}
