{
 "cells": [
  {
   "cell_type": "markdown",
   "metadata": {},
   "source": [
    "# Basics of Python and Numpy"
   ]
  },
  {
   "cell_type": "code",
   "execution_count": 1,
   "metadata": {},
   "outputs": [
    {
     "name": "stdout",
     "output_type": "stream",
     "text": [
      "hello world\n"
     ]
    }
   ],
   "source": [
    "print(\"hello world\")"
   ]
  },
  {
   "cell_type": "code",
   "execution_count": 2,
   "metadata": {},
   "outputs": [
    {
     "data": {
      "text/plain": [
       "7"
      ]
     },
     "execution_count": 2,
     "metadata": {},
     "output_type": "execute_result"
    }
   ],
   "source": [
    "3+4"
   ]
  },
  {
   "cell_type": "code",
   "execution_count": 3,
   "metadata": {},
   "outputs": [
    {
     "name": "stdout",
     "output_type": "stream",
     "text": [
      "a=5 wow hi hello\n",
      "Binary a=101 and Hexadecimal b=59\n"
     ]
    }
   ],
   "source": [
    "a=5\n",
    "b=89\n",
    "print(\"a={0} wow hi hello\".format(a))\n",
    "print(\"Binary a={0:b} and Hexadecimal b={1:x}\".format(a,b))\n"
   ]
  },
  {
   "cell_type": "markdown",
   "metadata": {},
   "source": [
    "### STRINGS"
   ]
  },
  {
   "cell_type": "code",
   "execution_count": 4,
   "metadata": {},
   "outputs": [
    {
     "name": "stdout",
     "output_type": "stream",
     "text": [
      "G\n",
      "Good Mo\n",
      "Good Morning\n",
      "Good MorninGood Mornin\n",
      "in\n"
     ]
    }
   ],
   "source": [
    "#STRING\n",
    "string=\"Good Mornin\"\n",
    "print(string[0])\n",
    "print(string[0:7])\n",
    "print(string+'g')\n",
    "print(string*2)\n",
    "print(string[-2:])"
   ]
  },
  {
   "cell_type": "code",
   "execution_count": 5,
   "metadata": {},
   "outputs": [
    {
     "name": "stdout",
     "output_type": "stream",
     "text": [
      "Hakuna matata\n",
      "False\n",
      "False\n",
      "False\n",
      "True\n",
      "False\n",
      "True\n",
      "6\n",
      "u\n",
      " \n",
      "HAKUNA MATATA\n"
     ]
    }
   ],
   "source": [
    "string=\"hakuna matata\"\n",
    "space=\"      \"\n",
    "print(str.capitalize(string))\n",
    "\n",
    "print(str.isalnum(string))\n",
    "\n",
    "print(string.isalnum())\n",
    "\n",
    "print(string.isdigit())\n",
    "\n",
    "print(string.islower())\n",
    "\n",
    "print(string.isspace())\n",
    "\n",
    "print(space.isspace())\n",
    "\n",
    "print(len(space))\n",
    "\n",
    "print(max(string))\n",
    "\n",
    "print(min(string))\n",
    "\n",
    "print(string.upper())"
   ]
  },
  {
   "cell_type": "markdown",
   "metadata": {},
   "source": [
    "### LIST"
   ]
  },
  {
   "cell_type": "code",
   "execution_count": 6,
   "metadata": {},
   "outputs": [
    {
     "name": "stdout",
     "output_type": "stream",
     "text": [
      "[45, 'hello']\n"
     ]
    }
   ],
   "source": [
    "#LIST\n",
    "lst=[\"hi\",1,45,\"hello\"]\n",
    "print(lst[2:4])"
   ]
  },
  {
   "cell_type": "code",
   "execution_count": 7,
   "metadata": {},
   "outputs": [
    {
     "name": "stdout",
     "output_type": "stream",
     "text": [
      "['hi', 1, 45, 'hello', 'gravity']\n",
      "['hi', 1, 45, 'hello']\n",
      "4\n",
      "['hi', 1, 45, 'hello', 'hi', 1, 45, 'hello']\n",
      "['hi', 1, 45, 'hello', 'hi', 1, 45, 'hello', 'hi', 1, 45, 'hello', 'hi', 1, 45, 'hello', 'hi', 1, 45, 'hello']\n",
      "True\n",
      "<built-in method copy of list object at 0x000000C79773AFC8>\n"
     ]
    }
   ],
   "source": [
    "lst.append('gravity')\n",
    "print(lst)\n",
    "del lst[4]\n",
    "print(lst)\n",
    "\n",
    "print(len(lst))\n",
    "\n",
    "print(lst+lst)\n",
    "\n",
    "print(lst*5)\n",
    "\n",
    "print(1 in lst)\n",
    "\n",
    "l=lst.copy\n",
    "print(l)"
   ]
  },
  {
   "cell_type": "markdown",
   "metadata": {},
   "source": [
    "### TUPLES"
   ]
  },
  {
   "cell_type": "code",
   "execution_count": 8,
   "metadata": {},
   "outputs": [
    {
     "name": "stdout",
     "output_type": "stream",
     "text": [
      "hi\n",
      "(45, 'hello')\n"
     ]
    }
   ],
   "source": [
    "#TUPLES\n",
    "tup=(\"hi\",1,45,\"hello\")\n",
    "print(tup[0])\n",
    "print(tup[2:])"
   ]
  },
  {
   "cell_type": "markdown",
   "metadata": {},
   "source": [
    "### DICTIONARY"
   ]
  },
  {
   "cell_type": "code",
   "execution_count": 9,
   "metadata": {},
   "outputs": [
    {
     "name": "stdout",
     "output_type": "stream",
     "text": [
      "7\n",
      "87\n",
      "dict_keys(['name', 'id', 63])\n",
      "dict_values(['Vijay Dinanath Chauhan', 7, 87])\n"
     ]
    }
   ],
   "source": [
    "#DICTIONARY\n",
    "dictionary={'name':\"Vijay Dinanath Chauhan\",'id':7,63:87}\n",
    "print(dictionary['id'])\n",
    "print(dictionary[63])\n",
    "print(dictionary.keys())\n",
    "print(dictionary.values())"
   ]
  },
  {
   "cell_type": "markdown",
   "metadata": {},
   "source": [
    "### INPUT "
   ]
  },
  {
   "cell_type": "code",
   "execution_count": 10,
   "metadata": {},
   "outputs": [
    {
     "name": "stdout",
     "output_type": "stream",
     "text": [
      "Enter a:\n"
     ]
    }
   ],
   "source": [
    "#INPUT\n",
    "a=input(\"Enter a:\")"
   ]
  },
  {
   "cell_type": "code",
   "execution_count": 11,
   "metadata": {},
   "outputs": [
    {
     "name": "stdout",
     "output_type": "stream",
     "text": [
      "Enter 3 nos\n"
     ]
    },
    {
     "ename": "SyntaxError",
     "evalue": "unexpected EOF while parsing (<string>, line 0)",
     "output_type": "error",
     "traceback": [
      "Traceback \u001b[1;36m(most recent call last)\u001b[0m:\n",
      "  File \u001b[0;32m\"c:\\users\\mtechcse\\appdata\\local\\programs\\python\\python37\\lib\\site-packages\\IPython\\core\\interactiveshell.py\"\u001b[0m, line \u001b[0;32m3319\u001b[0m, in \u001b[0;35mrun_code\u001b[0m\n    exec(code_obj, self.user_global_ns, self.user_ns)\n",
      "\u001b[1;36m  File \u001b[1;32m\"<ipython-input-11-68048fec1e10>\"\u001b[1;36m, line \u001b[1;32m1\u001b[1;36m, in \u001b[1;35m<module>\u001b[1;36m\u001b[0m\n\u001b[1;33m    b=eval(input(\"Enter 3 nos\"))\u001b[0m\n",
      "\u001b[1;36m  File \u001b[1;32m\"<string>\"\u001b[1;36m, line \u001b[1;32munknown\u001b[0m\n\u001b[1;33m    \u001b[0m\n\u001b[1;37m    ^\u001b[0m\n\u001b[1;31mSyntaxError\u001b[0m\u001b[1;31m:\u001b[0m unexpected EOF while parsing\n"
     ]
    }
   ],
   "source": [
    "b=eval(input(\"Enter 3 nos\"))"
   ]
  },
  {
   "cell_type": "code",
   "execution_count": null,
   "metadata": {},
   "outputs": [],
   "source": [
    "a,b,c=eval(input(\"Enter a,b,c\"))"
   ]
  },
  {
   "cell_type": "code",
   "execution_count": null,
   "metadata": {},
   "outputs": [],
   "source": [
    "print(a,b,c)"
   ]
  },
  {
   "cell_type": "code",
   "execution_count": 12,
   "metadata": {},
   "outputs": [],
   "source": [
    "a=[\n",
    "    [1,2,3],\n",
    "    [4,5,6]\n",
    "]"
   ]
  },
  {
   "cell_type": "code",
   "execution_count": 13,
   "metadata": {},
   "outputs": [
    {
     "name": "stdout",
     "output_type": "stream",
     "text": [
      "[1, 2, 3]\n"
     ]
    }
   ],
   "source": [
    "print(a[0])"
   ]
  },
  {
   "cell_type": "code",
   "execution_count": 14,
   "metadata": {},
   "outputs": [
    {
     "data": {
      "text/plain": [
       "7"
      ]
     },
     "execution_count": 14,
     "metadata": {},
     "output_type": "execute_result"
    }
   ],
   "source": [
    "a=6 \n",
    "b=7\n",
    "a|b"
   ]
  },
  {
   "cell_type": "code",
   "execution_count": 15,
   "metadata": {},
   "outputs": [
    {
     "data": {
      "text/plain": [
       "False"
      ]
     },
     "execution_count": 15,
     "metadata": {},
     "output_type": "execute_result"
    }
   ],
   "source": [
    "not(a and b)"
   ]
  },
  {
   "cell_type": "code",
   "execution_count": 16,
   "metadata": {},
   "outputs": [
    {
     "data": {
      "text/plain": [
       "True"
      ]
     },
     "execution_count": 16,
     "metadata": {},
     "output_type": "execute_result"
    }
   ],
   "source": [
    "a=[\n",
    "    [1,2,3],\n",
    "    [4,5,6]\n",
    "]\n",
    "2 in a[0]"
   ]
  },
  {
   "cell_type": "code",
   "execution_count": 17,
   "metadata": {},
   "outputs": [
    {
     "data": {
      "text/plain": [
       "True"
      ]
     },
     "execution_count": 17,
     "metadata": {},
     "output_type": "execute_result"
    }
   ],
   "source": [
    "a=6\n",
    "b=6\n",
    "a is b\n"
   ]
  },
  {
   "cell_type": "markdown",
   "metadata": {},
   "source": [
    "### IF ELIF ELSE"
   ]
  },
  {
   "cell_type": "code",
   "execution_count": 18,
   "metadata": {},
   "outputs": [
    {
     "name": "stdout",
     "output_type": "stream",
     "text": [
      "Enter amount\n"
     ]
    },
    {
     "ename": "SyntaxError",
     "evalue": "unexpected EOF while parsing (<string>, line 0)",
     "output_type": "error",
     "traceback": [
      "Traceback \u001b[1;36m(most recent call last)\u001b[0m:\n",
      "  File \u001b[0;32m\"c:\\users\\mtechcse\\appdata\\local\\programs\\python\\python37\\lib\\site-packages\\IPython\\core\\interactiveshell.py\"\u001b[0m, line \u001b[0;32m3319\u001b[0m, in \u001b[0;35mrun_code\u001b[0m\n    exec(code_obj, self.user_global_ns, self.user_ns)\n",
      "\u001b[1;36m  File \u001b[1;32m\"<ipython-input-18-70873d87fe03>\"\u001b[1;36m, line \u001b[1;32m2\u001b[1;36m, in \u001b[1;35m<module>\u001b[1;36m\u001b[0m\n\u001b[1;33m    amount=eval(input(\"Enter amount\"))\u001b[0m\n",
      "\u001b[1;36m  File \u001b[1;32m\"<string>\"\u001b[1;36m, line \u001b[1;32munknown\u001b[0m\n\u001b[1;33m    \u001b[0m\n\u001b[1;37m    ^\u001b[0m\n\u001b[1;31mSyntaxError\u001b[0m\u001b[1;31m:\u001b[0m unexpected EOF while parsing\n"
     ]
    }
   ],
   "source": [
    "#IF ELIF ELSE\n",
    "amount=eval(input(\"Enter amount\"))\n",
    "if amount<1000:\n",
    "    discount=amount*0.05\n",
    "    print (\"Discount\",discount)\n",
    "elif amount<5000:\n",
    "    discount=amount*0.10\n",
    "    print (\"Discount\",discount)\n",
    "else:\n",
    "    discount=amount*0.15\n",
    "    print (\"Discount\",discount)"
   ]
  },
  {
   "cell_type": "code",
   "execution_count": 19,
   "metadata": {},
   "outputs": [
    {
     "name": "stdout",
     "output_type": "stream",
     "text": [
      "The count is: 0\n",
      "The count is: 1\n",
      "The count is: 2\n",
      "The count is: 3\n",
      "The count is: 4\n",
      "The count is: 5\n",
      "The count is: 6\n",
      "The count is: 7\n",
      "The count is: 8\n",
      "Good bye!\n"
     ]
    }
   ],
   "source": [
    "count = 0\n",
    "while count < 9:\n",
    "    print ('The count is:', count)\n",
    "    count = count + 1\n",
    "\n",
    "print (\"Good bye!\")"
   ]
  },
  {
   "cell_type": "code",
   "execution_count": 20,
   "metadata": {},
   "outputs": [
    {
     "name": "stdout",
     "output_type": "stream",
     "text": [
      "0\n",
      "1\n",
      "2\n",
      "3\n",
      "4\n",
      "<class 'int'>\n"
     ]
    }
   ],
   "source": [
    "for var in list(range(5)):\n",
    "    print(var)\n",
    "print(type(var))"
   ]
  },
  {
   "cell_type": "code",
   "execution_count": 21,
   "metadata": {},
   "outputs": [
    {
     "name": "stdout",
     "output_type": "stream",
     "text": [
      "G\n",
      "o\n",
      "o\n",
      "d\n",
      " \n",
      "M\n",
      "o\n",
      "r\n",
      "n\n",
      "i\n",
      "n\n",
      "g\n"
     ]
    }
   ],
   "source": [
    "for letter in 'Good Morning':\n",
    "    print(letter)"
   ]
  },
  {
   "cell_type": "markdown",
   "metadata": {},
   "source": [
    "### FOR-ELSE"
   ]
  },
  {
   "cell_type": "code",
   "execution_count": 22,
   "metadata": {},
   "outputs": [
    {
     "name": "stdout",
     "output_type": "stream",
     "text": [
      "z is not present\n"
     ]
    }
   ],
   "source": [
    "#FOR-ELSE\n",
    "for l in \"Hello, good morning!\":\n",
    "    if l is 'z':\n",
    "        print(\"z is present\")\n",
    "        break\n",
    "else:\n",
    "    print(\"z is not present\")"
   ]
  },
  {
   "cell_type": "code",
   "execution_count": 23,
   "metadata": {},
   "outputs": [
    {
     "name": "stdout",
     "output_type": "stream",
     "text": [
      "(3+0j)\n",
      "(5+4j)\n",
      "(3+4j)\n"
     ]
    }
   ],
   "source": [
    "p=3 \n",
    "q=4\n",
    "print(complex(p))\n",
    "print(complex(p)+2+4j)\n",
    "print(complex(p,q))"
   ]
  },
  {
   "cell_type": "code",
   "execution_count": 24,
   "metadata": {},
   "outputs": [
    {
     "name": "stdout",
     "output_type": "stream",
     "text": [
      "10 -10 4.5399929762484854e-05 -10 2.501435951739211\n"
     ]
    }
   ],
   "source": [
    "import math\n",
    "s=-10\n",
    "t=12.20\n",
    "print(abs(s),\n",
    "      math.ceil(s),\n",
    "      math.exp(s),\n",
    "      math.floor(s),\n",
    "      math.log(t))\n"
   ]
  },
  {
   "cell_type": "code",
   "execution_count": 25,
   "metadata": {},
   "outputs": [
    {
     "name": "stdout",
     "output_type": "stream",
     "text": [
      "9\n",
      "-2\n",
      "16\n",
      "11.0\n"
     ]
    }
   ],
   "source": [
    "print(max(2,4,8,9))\n",
    "print(min(8,9,-2,6))\n",
    "print(pow(2,4))\n",
    "print(math.sqrt(121))"
   ]
  },
  {
   "cell_type": "code",
   "execution_count": 26,
   "metadata": {},
   "outputs": [
    {
     "name": "stdout",
     "output_type": "stream",
     "text": [
      "18\n",
      "0.21871631762478594\n",
      "261.7550577894149\n"
     ]
    }
   ],
   "source": [
    "import random\n",
    "print(random.randint(3,100))\n",
    "print(random.random())\n",
    "print(random.uniform(5,500))"
   ]
  },
  {
   "cell_type": "markdown",
   "metadata": {},
   "source": [
    "### FUNCTIONS"
   ]
  },
  {
   "cell_type": "code",
   "execution_count": 27,
   "metadata": {},
   "outputs": [
    {
     "name": "stdout",
     "output_type": "stream",
     "text": [
      "String passed in the argument will be passed\n",
      "All parameters (arguments) in the Python language are passed by reference.\n",
      "All parameters (arguments) in the Python language are passed by reference.All parameters (arguments) in the Python language are passed by reference.\n"
     ]
    }
   ],
   "source": [
    "#FUNCTIONS\n",
    "\n",
    "def func(s):\n",
    "    print(\"String passed in the argument will be passed\")\n",
    "    print(s)\n",
    "    return s*2\n",
    "    \n",
    "new = func(\"All parameters (arguments) in the Python language are passed by reference.\")\n",
    "print(new)"
   ]
  },
  {
   "cell_type": "markdown",
   "metadata": {},
   "source": [
    "# NUMPY"
   ]
  },
  {
   "cell_type": "code",
   "execution_count": 28,
   "metadata": {},
   "outputs": [
    {
     "name": "stdout",
     "output_type": "stream",
     "text": [
      "[1. 2. 3. 4.]\n",
      "<class 'numpy.ndarray'>\n",
      "[3. 4.]\n",
      "[[1 2 3]\n",
      " [4 5 6]]\n",
      "[1 2 3]\n",
      "2\n",
      "(2, 3)\n"
     ]
    }
   ],
   "source": [
    "#NUMPY\n",
    "#Numpy is an open-source add-on module that provides common mathematical \n",
    "#and numerical routines as pre- compiled fast functions \n",
    "\n",
    "import numpy as np\n",
    "#1D\n",
    "a= np.array([1,2,3,4],float)\n",
    "print(a)\n",
    "print(type(a))\n",
    "print(a[2:])\n",
    "#2D\n",
    "a=np.array([[1,2,3],[4,5,6]])\n",
    "print(a)\n",
    "print(a[0])\n",
    "print(a[0][1])\n",
    "print(a.shape)"
   ]
  },
  {
   "cell_type": "code",
   "execution_count": 29,
   "metadata": {},
   "outputs": [
    {
     "name": "stdout",
     "output_type": "stream",
     "text": [
      "[0. 1. 2. 3. 4. 5. 6. 7. 8. 9.]\n",
      "(10,)\n",
      "\n",
      "[[0. 1.]\n",
      " [2. 3.]\n",
      " [4. 5.]\n",
      " [6. 7.]\n",
      " [8. 9.]]\n",
      "(5, 2)\n",
      "\n",
      "[[0. 2. 4. 6. 8.]\n",
      " [1. 3. 5. 7. 9.]]\n",
      "\n",
      "[0. 1. 2. 3. 4. 5. 6. 7. 8. 9.]\n",
      "\n",
      "[ 0.  1.  2.  3.  4.  5.  6.  7.  8.  9. 23. 53. 65. 18.  4.  6.  7.]\n"
     ]
    }
   ],
   "source": [
    "a=np.array(range(10),float)\n",
    "print(a)\n",
    "print(a.shape)\n",
    "print()\n",
    "\n",
    "a=a.reshape((5,2))\n",
    "print(a)\n",
    "print(a.shape)\n",
    "print()\n",
    "\n",
    "print(a.transpose())\n",
    "print()\n",
    "\n",
    "print(a.flatten())\n",
    "print()\n",
    "\n",
    "a=a.flatten()\n",
    "b=np.array([23,53,65])\n",
    "c=np.array([18,4,6,7])\n",
    "print(np.concatenate((a,b,c)))"
   ]
  },
  {
   "cell_type": "code",
   "execution_count": 30,
   "metadata": {},
   "outputs": [
    {
     "name": "stdout",
     "output_type": "stream",
     "text": [
      "[[1. 1. 1.]\n",
      " [1. 1. 1.]]\n",
      "\n",
      "[0 0 0 0 0 0 0]\n"
     ]
    }
   ],
   "source": [
    "print(np.ones((2,3)))\n",
    "print()\n",
    "      \n",
    "print(np.zeros(7,dtype=int))"
   ]
  },
  {
   "cell_type": "code",
   "execution_count": 31,
   "metadata": {},
   "outputs": [
    {
     "name": "stdout",
     "output_type": "stream",
     "text": [
      "[27 58 72]\n",
      "[-19 -48 -58]\n",
      "[0.17391304 0.09433962 0.10769231]\n",
      "[ 92 265 455]\n",
      "[4 5 7]\n",
      "[          0 -1208458123  1159739911]\n"
     ]
    }
   ],
   "source": [
    "a=np.array([4,5,7])\n",
    "b=np.array([23,53,65])\n",
    "print(a+b)\n",
    "print(a-b)\n",
    "print(a/b)\n",
    "print(a*b)\n",
    "print(a%b)\n",
    "print(a**b)"
   ]
  },
  {
   "cell_type": "code",
   "execution_count": 32,
   "metadata": {},
   "outputs": [
    {
     "ename": "ValueError",
     "evalue": "operands could not be broadcast together with shapes (2,) (3,) ",
     "output_type": "error",
     "traceback": [
      "\u001b[1;31m---------------------------------------------------------------------------\u001b[0m",
      "\u001b[1;31mValueError\u001b[0m                                Traceback (most recent call last)",
      "\u001b[1;32m<ipython-input-32-cce6e8833e56>\u001b[0m in \u001b[0;36m<module>\u001b[1;34m\u001b[0m\n\u001b[0;32m      1\u001b[0m \u001b[0ma\u001b[0m\u001b[1;33m=\u001b[0m\u001b[0mnp\u001b[0m\u001b[1;33m.\u001b[0m\u001b[0marray\u001b[0m\u001b[1;33m(\u001b[0m\u001b[1;33m[\u001b[0m\u001b[1;36m1\u001b[0m\u001b[1;33m,\u001b[0m\u001b[1;36m3\u001b[0m\u001b[1;33m]\u001b[0m\u001b[1;33m)\u001b[0m\u001b[1;33m\u001b[0m\u001b[1;33m\u001b[0m\u001b[0m\n\u001b[0;32m      2\u001b[0m \u001b[0mb\u001b[0m\u001b[1;33m=\u001b[0m\u001b[0mnp\u001b[0m\u001b[1;33m.\u001b[0m\u001b[0marray\u001b[0m\u001b[1;33m(\u001b[0m\u001b[1;33m[\u001b[0m\u001b[1;36m2\u001b[0m\u001b[1;33m,\u001b[0m\u001b[1;36m5\u001b[0m\u001b[1;33m,\u001b[0m\u001b[1;36m8\u001b[0m\u001b[1;33m]\u001b[0m\u001b[1;33m)\u001b[0m\u001b[1;33m\u001b[0m\u001b[1;33m\u001b[0m\u001b[0m\n\u001b[1;32m----> 3\u001b[1;33m \u001b[0mprint\u001b[0m\u001b[1;33m(\u001b[0m\u001b[0ma\u001b[0m\u001b[1;33m+\u001b[0m\u001b[0mb\u001b[0m\u001b[1;33m)\u001b[0m\u001b[1;33m\u001b[0m\u001b[1;33m\u001b[0m\u001b[0m\n\u001b[0m",
      "\u001b[1;31mValueError\u001b[0m: operands could not be broadcast together with shapes (2,) (3,) "
     ]
    }
   ],
   "source": [
    "a=np.array([1,3])\n",
    "b=np.array([2,5,8])\n",
    "print(a+b)"
   ]
  },
  {
   "cell_type": "markdown",
   "metadata": {},
   "source": [
    "### BROADCASTING"
   ]
  },
  {
   "cell_type": "code",
   "execution_count": null,
   "metadata": {},
   "outputs": [],
   "source": [
    "#BROADCASTING\n",
    "#Arrays that do not match in the number of dimensions will be broadcasted \n",
    "#by Python to perform mathematical operations\n",
    "\n",
    "a=np.array([[1,2],[3,4],[5,6],[7,8]])\n",
    "b=np.array([10,11])\n",
    "print(a)\n",
    "print()\n",
    "print(b)\n",
    "print()\n",
    "print(a+b)"
   ]
  },
  {
   "cell_type": "markdown",
   "metadata": {},
   "source": [
    "### ARRAY ITERATION"
   ]
  },
  {
   "cell_type": "code",
   "execution_count": null,
   "metadata": {},
   "outputs": [],
   "source": [
    "#ARRAY ITERATION\n",
    "a=np.array(range(5))\n",
    "for x in a:\n",
    "    print(x)\n",
    "    \n",
    "print()\n",
    "a=np.array([[1,2],[3,4],[5,6]])\n",
    "for(x,y) in a:\n",
    "    print(x*y)"
   ]
  },
  {
   "cell_type": "code",
   "execution_count": null,
   "metadata": {},
   "outputs": [],
   "source": [
    "a=np.array([2,5,9])\n",
    "print(np.sum(a))\n",
    "print(np.prod(a))\n",
    "print(np.mean(a))\n",
    "print(np.var(a)) #variance\n",
    "print(np.std(a)) #standard deviation\n",
    "print(np.min(a))\n",
    "print(np.max(a))\n",
    "print(np.argmax(a)) #argument of min\n",
    "print(np.argmin(a)) #argument of max\n",
    "print(np.sort(a))"
   ]
  },
  {
   "cell_type": "code",
   "execution_count": 33,
   "metadata": {},
   "outputs": [
    {
     "name": "stdout",
     "output_type": "stream",
     "text": [
      "5\n",
      "[-1 -1  1]\n"
     ]
    }
   ],
   "source": [
    "a=np.array([1,2,3])\n",
    "b=np.array([0,1,1])\n",
    "print(np.dot(a,b))\n",
    "print(np.cross(a,b))"
   ]
  },
  {
   "cell_type": "code",
   "execution_count": 34,
   "metadata": {},
   "outputs": [
    {
     "data": {
      "text/plain": [
       "array([0, 1, 2, 3, 4, 5, 6, 7, 8, 9])"
      ]
     },
     "execution_count": 34,
     "metadata": {},
     "output_type": "execute_result"
    }
   ],
   "source": [
    "x=np.arange(10)\n",
    "x"
   ]
  },
  {
   "cell_type": "code",
   "execution_count": 35,
   "metadata": {},
   "outputs": [
    {
     "name": "stdout",
     "output_type": "stream",
     "text": [
      "[0 1 2 3 4 5 6 7 8 9]\n"
     ]
    }
   ],
   "source": [
    "np.save('out',x)\n",
    "x=np.load('out.npy')\n",
    "print(x)"
   ]
  }
 ],
 "metadata": {
  "kernelspec": {
   "display_name": "Python 3",
   "language": "python",
   "name": "python3"
  },
  "language_info": {
   "codemirror_mode": {
    "name": "ipython",
    "version": 3
   },
   "file_extension": ".py",
   "mimetype": "text/x-python",
   "name": "python",
   "nbconvert_exporter": "python",
   "pygments_lexer": "ipython3",
   "version": "3.7.6"
  }
 },
 "nbformat": 4,
 "nbformat_minor": 1
}
